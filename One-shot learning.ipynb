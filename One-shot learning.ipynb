{
 "cells": [
  {
   "cell_type": "code",
   "execution_count": 17,
   "metadata": {},
   "outputs": [],
   "source": [
    "import random\n",
    "import numpy as np\n",
    "import keras\n",
    "#import wandb\n",
    "from wandb.keras import WandbCallback\n",
    "from keras.models import Sequential, Model\n",
    "from keras.layers import Flatten, Dense, Concatenate, Dot, Lambda, Input\n",
    "from keras.datasets import mnist\n",
    "from keras.optimizers import Adam\n",
    "import matplotlib.pyplot as plt"
   ]
  },
  {
   "cell_type": "code",
   "execution_count": 18,
   "metadata": {},
   "outputs": [],
   "source": [
    "(x_train, y_train), (x_test, y_test) = mnist.load_data() #Load data\n",
    "x_train = x_train.astype('float32')\n",
    "x_test = x_test.astype('float32')\n",
    "x_train /= 255\n",
    "x_test /= 255"
   ]
  },
  {
   "cell_type": "code",
   "execution_count": 3,
   "metadata": {},
   "outputs": [
    {
     "data": {
      "text/plain": [
       "'a = np.arange(10)\\nprint(a)\\nprint(np.where(a < 5, a, 10*a))'"
      ]
     },
     "execution_count": 3,
     "metadata": {},
     "output_type": "execute_result"
    }
   ],
   "source": [
    "'''a = np.arange(10)\n",
    "print(a)\n",
    "print(np.where(a < 5, a, 10*a))'''"
   ]
  },
  {
   "cell_type": "code",
   "execution_count": 19,
   "metadata": {},
   "outputs": [],
   "source": [
    "# make pairs\n",
    "def make_pairs(x, y):\n",
    "    num_classes = max(y) + 1\n",
    "    digit_indices = [np.where(y == i)[0] for i in range(num_classes)]\n",
    "\n",
    "    pairs = []\n",
    "    labels = []\n",
    "\n",
    "    for idx1 in range(len(x)):\n",
    "        # add a matching example\n",
    "        x1 = x[idx1]\n",
    "        label1 = y[idx1]\n",
    "        idx2 = random.choice(digit_indices[label1])\n",
    "        x2 = x[idx2]\n",
    "        \n",
    "        pairs += [[x1, x2]]\n",
    "        labels += [1]\n",
    "    \n",
    "        # add a not matching example\n",
    "        label2 = random.randint(0, num_classes-1)\n",
    "        while label2 == label1:\n",
    "            label2 = random.randint(0, num_classes-1)\n",
    "\n",
    "        idx2 = random.choice(digit_indices[label2])\n",
    "        x2 = x[idx2]\n",
    "        \n",
    "        pairs += [[x1, x2]]\n",
    "        labels += [0]\n",
    "\n",
    "    return np.array(pairs), np.array(labels)\n",
    "\n",
    "pairs_train, labels_train = make_pairs(x_train, y_train)\n",
    "pairs_test, labels_test = make_pairs(x_test, y_test)"
   ]
  },
  {
   "cell_type": "code",
   "execution_count": 20,
   "metadata": {},
   "outputs": [
    {
     "name": "stdout",
     "output_type": "stream",
     "text": [
      "1\n"
     ]
    },
    {
     "data": {
      "image/png": "[encoded data removed]",
      "text/plain": [
       "<Figure size 432x288 with 1 Axes>"
      ]
     },
     "metadata": {
      "needs_background": "light"
     },
     "output_type": "display_data"
    }
   ],
   "source": [
    "# take a peek at the data\n",
    "plt.imshow(pairs_train[4,0])\n",
    "print(labels_train[4])"
   ]
  },
  {
   "cell_type": "code",
   "execution_count": 21,
   "metadata": {},
   "outputs": [
    {
     "name": "stdout",
     "output_type": "stream",
     "text": [
      "1\n"
     ]
    },
    {
     "data": {
      "image/png": "[encoded data removed]",
      "text/plain": [
       "<Figure size 432x288 with 1 Axes>"
      ]
     },
     "metadata": {
      "needs_background": "light"
     },
     "output_type": "display_data"
    }
   ],
   "source": [
    "plt.imshow(pairs_train[4,1])\n",
    "print(labels_train[4])"
   ]
  },
  {
   "cell_type": "code",
   "execution_count": 22,
   "metadata": {},
   "outputs": [],
   "source": [
    "\n",
    "# Weights not shared\n",
    "\n",
    "seq1 = Sequential()\n",
    "seq1.add(Flatten(input_shape=(28,28)))\n",
    "seq1.add(Dense(128, activation='relu'))\n",
    "\n",
    "seq2 = Sequential()\n",
    "seq2.add(Flatten(input_shape=(28,28)))\n",
    "seq2.add(Dense(128, activation='relu'))\n",
    "\n",
    "merge_layer = Concatenate()([seq1.output, seq2.output])\n",
    "dense_layer = Dense(1, activation=\"sigmoid\")(merge_layer)\n",
    "model = Model(inputs=[seq1.input, seq2.input], outputs=dense_layer)"
   ]
  },
  {
   "cell_type": "code",
   "execution_count": 23,
   "metadata": {},
   "outputs": [
    {
     "name": "stdout",
     "output_type": "stream",
     "text": [
      "__________________________________________________________________________________________________\n",
      "Layer (type)                    Output Shape         Param #     Connected to                     \n",
      "==================================================================================================\n",
      "flatten_5_input (InputLayer)    (None, 28, 28)       0                                            \n",
      "__________________________________________________________________________________________________\n",
      "flatten_6_input (InputLayer)    (None, 28, 28)       0                                            \n",
      "__________________________________________________________________________________________________\n",
      "flatten_5 (Flatten)             (None, 784)          0           flatten_5_input[0][0]            \n",
      "__________________________________________________________________________________________________\n",
      "flatten_6 (Flatten)             (None, 784)          0           flatten_6_input[0][0]            \n",
      "__________________________________________________________________________________________________\n",
      "dense_8 (Dense)                 (None, 128)          100480      flatten_5[0][0]                  \n",
      "__________________________________________________________________________________________________\n",
      "dense_9 (Dense)                 (None, 128)          100480      flatten_6[0][0]                  \n",
      "__________________________________________________________________________________________________\n",
      "concatenate_3 (Concatenate)     (None, 256)          0           dense_8[0][0]                    \n",
      "                                                                 dense_9[0][0]                    \n",
      "__________________________________________________________________________________________________\n",
      "dense_10 (Dense)                (None, 1)            257         concatenate_3[0][0]              \n",
      "==================================================================================================\n",
      "Total params: 201,217\n",
      "Trainable params: 201,217\n",
      "Non-trainable params: 0\n",
      "__________________________________________________________________________________________________\n"
     ]
    }
   ],
   "source": [
    "\n",
    "model.compile(loss = \"binary_crossentropy\", optimizer=\"adam\", metrics=[\"accuracy\"])\n",
    "model.summary()"
   ]
  },
  {
   "cell_type": "code",
   "execution_count": 24,
   "metadata": {},
   "outputs": [
    {
     "name": "stdout",
     "output_type": "stream",
     "text": [
      "Epoch 1/10\n",
      "120000/120000 [==============================] - 34s 281us/step - loss: 0.6947 - acc: 0.5044\n",
      "Epoch 2/10\n",
      "120000/120000 [==============================] - 36s 300us/step - loss: 0.6930 - acc: 0.5061\n",
      "Epoch 3/10\n",
      "120000/120000 [==============================] - 36s 299us/step - loss: 0.6928 - acc: 0.5100\n",
      "Epoch 4/10\n",
      "120000/120000 [==============================] - 36s 299us/step - loss: 0.6924 - acc: 0.5146\n",
      "Epoch 5/10\n",
      "120000/120000 [==============================] - 35s 295us/step - loss: 0.6920 - acc: 0.5170\n",
      "Epoch 6/10\n",
      "120000/120000 [==============================] - 36s 301us/step - loss: 0.6914 - acc: 0.5169\n",
      "Epoch 7/10\n",
      "120000/120000 [==============================] - 35s 295us/step - loss: 0.6907 - acc: 0.5206\n",
      "Epoch 8/10\n",
      "120000/120000 [==============================] - 36s 299us/step - loss: 0.6900 - acc: 0.5225\n",
      "Epoch 9/10\n",
      "120000/120000 [==============================] - 36s 302us/step - loss: 0.6890 - acc: 0.5272\n",
      "Epoch 10/10\n",
      "120000/120000 [==============================] - 37s 308us/step - loss: 0.6881 - acc: 0.5285\n"
     ]
    },
    {
     "data": {
      "text/plain": [
       "<keras.callbacks.History at 0x24a8d75ea58>"
      ]
     },
     "execution_count": 24,
     "metadata": {},
     "output_type": "execute_result"
    }
   ],
   "source": [
    "\n",
    "#wandb.init(project=\"siamese\")\n",
    "model.fit([pairs_train[:,0], pairs_train[:,1]], labels_train[:], batch_size=16, epochs= 10)"
   ]
  },
  {
   "cell_type": "code",
   "execution_count": null,
   "metadata": {},
   "outputs": [],
   "source": [
    "\n",
    "input = Input((28,28))\n",
    "x = Flatten()(input)\n",
    "x = Dense(128, activation='relu')(x)\n",
    "dense = Model(input, x)\n",
    "\n",
    "input1 = Input((28,28))\n",
    "input2 = Input((28,28))\n",
    "\n",
    "dense1 = dense(input1)\n",
    "dense2 = dense(input2)\n",
    "\n",
    "merge_layer = Concatenate()([dense1, dense2])\n",
    "dense_layer = Dense(1, activation=\"sigmoid\")(merge_layer)\n",
    "model = Model(inputs=[input1, input2], outputs=dense_layer)"
   ]
  },
  {
   "cell_type": "code",
   "execution_count": null,
   "metadata": {},
   "outputs": [
    {
     "name": "stdout",
     "output_type": "stream",
     "text": [
      "__________________________________________________________________________________________________\n",
      "Layer (type)                    Output Shape         Param #     Connected to                     \n",
      "==================================================================================================\n",
      "input_2 (InputLayer)            (None, 28, 28)       0                                            \n",
      "__________________________________________________________________________________________________\n",
      "input_3 (InputLayer)            (None, 28, 28)       0                                            \n",
      "__________________________________________________________________________________________________\n",
      "model_2 (Model)                 (None, 128)          100480      input_2[0][0]                    \n",
      "                                                                 input_3[0][0]                    \n",
      "__________________________________________________________________________________________________\n",
      "concatenate_2 (Concatenate)     (None, 256)          0           model_2[1][0]                    \n",
      "                                                                 model_2[2][0]                    \n",
      "__________________________________________________________________________________________________\n",
      "dense_5 (Dense)                 (None, 1)            257         concatenate_2[0][0]              \n",
      "==================================================================================================\n",
      "Total params: 100,737\n",
      "Trainable params: 100,737\n",
      "Non-trainable params: 0\n",
      "__________________________________________________________________________________________________\n"
     ]
    }
   ],
   "source": [
    "model.compile(loss = \"binary_crossentropy\", optimizer=\"adam\", metrics=[\"accuracy\"])\n",
    "model.summary()"
   ]
  },
  {
   "cell_type": "code",
   "execution_count": null,
   "metadata": {},
   "outputs": [
    {
     "name": "stdout",
     "output_type": "stream",
     "text": [
      "Epoch 1/10\n",
      "120000/120000 [==============================] - 25s 210us/step - loss: 0.6942 - acc: 0.5021\n",
      "Epoch 2/10\n",
      "120000/120000 [==============================] - 25s 206us/step - loss: 0.6932 - acc: 0.5063\n",
      "Epoch 3/10\n",
      " 97120/120000 [=======================>......] - ETA: 4s - loss: 0.6931 - acc: 0.5012"
     ]
    }
   ],
   "source": [
    "#wandb.init(project=\"siamese\")\n",
    "model.fit([pairs_train[:,0], pairs_train[:,1]], labels_train[:], batch_size=16, epochs=10)"
   ]
  },
  {
   "cell_type": "code",
   "execution_count": 25,
   "metadata": {},
   "outputs": [],
   "source": [
    "\n",
    "from keras import backend as K\n",
    "\n",
    "def euclidean_distance(vects):\n",
    "    x, y = vects\n",
    "    sum_square = K.sum(K.square(x - y), axis=1, keepdims=True)\n",
    "    return K.sqrt(K.maximum(sum_square, K.epsilon()))\n",
    "\n",
    "\n",
    "input = Input((28,28))\n",
    "x = Flatten()(input)\n",
    "x = Dense(128, activation='relu')(x)\n",
    "dense = Model(input, x)\n",
    "\n",
    "input1 = Input((28,28))\n",
    "input2 = Input((28,28))\n",
    "\n",
    "dense1 = dense(input1)\n",
    "dense2 = dense(input2)\n",
    "\n",
    "merge_layer = Lambda(euclidean_distance)([dense1,dense2])\n",
    "dense_layer = Dense(1, activation=\"sigmoid\")(merge_layer)\n",
    "model = Model(inputs=[input1, input2], outputs=dense_layer)"
   ]
  },
  {
   "cell_type": "code",
   "execution_count": 26,
   "metadata": {},
   "outputs": [
    {
     "name": "stdout",
     "output_type": "stream",
     "text": [
      "__________________________________________________________________________________________________\n",
      "Layer (type)                    Output Shape         Param #     Connected to                     \n",
      "==================================================================================================\n",
      "input_8 (InputLayer)            (None, 28, 28)       0                                            \n",
      "__________________________________________________________________________________________________\n",
      "input_9 (InputLayer)            (None, 28, 28)       0                                            \n",
      "__________________________________________________________________________________________________\n",
      "model_7 (Model)                 (None, 128)          100480      input_8[0][0]                    \n",
      "                                                                 input_9[0][0]                    \n",
      "__________________________________________________________________________________________________\n",
      "lambda_2 (Lambda)               (None, 1)            0           model_7[1][0]                    \n",
      "                                                                 model_7[2][0]                    \n",
      "__________________________________________________________________________________________________\n",
      "dense_12 (Dense)                (None, 1)            2           lambda_2[0][0]                   \n",
      "==================================================================================================\n",
      "Total params: 100,482\n",
      "Trainable params: 100,482\n",
      "Non-trainable params: 0\n",
      "__________________________________________________________________________________________________\n"
     ]
    }
   ],
   "source": [
    "\n",
    "model.compile(loss = \"binary_crossentropy\", optimizer=\"adam\", metrics=[\"accuracy\"])\n",
    "model.summary()"
   ]
  },
  {
   "cell_type": "code",
   "execution_count": 27,
   "metadata": {},
   "outputs": [
    {
     "name": "stdout",
     "output_type": "stream",
     "text": [
      "Epoch 1/10\n",
      "120000/120000 [==============================] - 33s 272us/step - loss: 0.4449 - acc: 0.7974\n",
      "Epoch 2/10\n",
      "120000/120000 [==============================] - 41s 344us/step - loss: 0.3478 - acc: 0.8535\n",
      "Epoch 3/10\n",
      "120000/120000 [==============================] - 28s 230us/step - loss: 0.3083 - acc: 0.8730\n",
      "Epoch 4/10\n",
      "120000/120000 [==============================] - 25s 212us/step - loss: 0.2972 - acc: 0.8766\n",
      "Epoch 5/10\n",
      "120000/120000 [==============================] - 25s 212us/step - loss: 0.2928 - acc: 0.8797\n",
      "Epoch 6/10\n",
      "120000/120000 [==============================] - 25s 212us/step - loss: 0.2895 - acc: 0.8807\n",
      "Epoch 7/10\n",
      "120000/120000 [==============================] - 26s 214us/step - loss: 0.2849 - acc: 0.8824\n",
      "Epoch 8/10\n",
      "120000/120000 [==============================] - 25s 212us/step - loss: 0.2810 - acc: 0.8851\n",
      "Epoch 9/10\n",
      "120000/120000 [==============================] - 26s 213us/step - loss: 0.2787 - acc: 0.8867\n",
      "Epoch 10/10\n",
      "120000/120000 [==============================] - 25s 212us/step - loss: 0.2774 - acc: 0.8872\n"
     ]
    },
    {
     "data": {
      "text/plain": [
       "<keras.callbacks.History at 0x24a8ea32c18>"
      ]
     },
     "execution_count": 27,
     "metadata": {},
     "output_type": "execute_result"
    }
   ],
   "source": [
    "#wandb.init(project=\"siamese\")\n",
    "model.fit([pairs_train[:,0], pairs_train[:,1]], labels_train[:], batch_size=16, epochs=10)"
   ]
  },
  {
   "cell_type": "code",
   "execution_count": null,
   "metadata": {},
   "outputs": [],
   "source": []
  }
 ],
 "metadata": {
  "kernelspec": {
   "display_name": "Python 3",
   "language": "python",
   "name": "python3"
  },
  "language_info": {
   "codemirror_mode": {
    "name": "ipython",
    "version": 3
   },
   "file_extension": ".py",
   "mimetype": "text/x-python",
   "name": "python",
   "nbconvert_exporter": "python",
   "pygments_lexer": "ipython3",
   "version": "3.7.3"
  }
 },
 "nbformat": 4,
 "nbformat_minor": 2
}
